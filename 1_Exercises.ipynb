{
 "cells": [
  {
   "cell_type": "markdown",
   "id": "38e188a5",
   "metadata": {},
   "source": [
    "# Exercise 00\n",
    "Write a piece of code that allocates a list of 20 integers and initializes each element by its index multiplied by 5. Print the result."
   ]
  },
  {
   "cell_type": "code",
   "execution_count": 13,
   "id": "01aa4f35",
   "metadata": {
    "scrolled": true
   },
   "outputs": [
    {
     "name": "stdout",
     "output_type": "stream",
     "text": [
      "[0, 5, 10, 15, 20, 25, 30, 35, 40, 45, 50, 55, 60, 65, 70, 75, 80, 85, 90, 95]\n"
     ]
    }
   ],
   "source": [
    "MyList = []\n",
    "for i in range(20):\n",
    "    MyList.append(i*5)\n",
    "print(MyList)"
   ]
  },
  {
   "cell_type": "markdown",
   "id": "529d91ae",
   "metadata": {},
   "source": [
    "# Exercise 01\n",
    "Define a function that takes an integer as input, prints  all integers that it is divisable by, and returns the largest one."
   ]
  },
  {
   "cell_type": "code",
   "execution_count": 16,
   "id": "30e79132",
   "metadata": {},
   "outputs": [
    {
     "name": "stdout",
     "output_type": "stream",
     "text": [
      "500\n",
      "Divided by:  1\n",
      "Divided by:  2\n",
      "Divided by:  4\n",
      "Divided by:  5\n",
      "Divided by:  10\n",
      "Divided by:  20\n",
      "Divided by:  25\n",
      "Divided by:  50\n",
      "Divided by:  100\n",
      "Divided by:  125\n",
      "Divided by:  250\n",
      "Divided by:  500\n",
      "The Largest Divider:  500\n"
     ]
    }
   ],
   "source": [
    "import math\n",
    "\n",
    "x= int(input())\n",
    "\n",
    "for i in range(1,x+1):\n",
    "    if x%i==0:\n",
    "        print(\"Divided by: \",i)\n",
    "    \n",
    "print(\"The Largest Divider: \", math.gcd(x,i))"
   ]
  },
  {
   "cell_type": "markdown",
   "id": "cfbe30d4",
   "metadata": {},
   "source": [
    "# Exercise 02\n",
    "- create a dictionary with 6 keys and values of your choice\n",
    "- write a function that takes a dictionary and a value as input and returns whether the value occurs as a key in the dictionary\n",
    "- write a function that takes a dictionary as input, and returns the dictionary but the keys are swapped with their values (resolve the issue if a value occurs twice!)"
   ]
  },
  {
   "cell_type": "code",
   "execution_count": 14,
   "id": "2123f1c6",
   "metadata": {},
   "outputs": [],
   "source": [
    "thisDict = {\n",
    "    'Name of The Book' : 'Harry Potter and The Chamber of Secrets',\n",
    "    'Author':'J.K Rowling',\n",
    "    'Year':'1998',\n",
    "    'Genre':'Fantasy',\n",
    "    'Set in':'United Kingdom',\n",
    "    'Pages':'251'}"
   ]
  },
  {
   "cell_type": "code",
   "execution_count": 16,
   "id": "91dbbe9c",
   "metadata": {},
   "outputs": [
    {
     "data": {
      "text/plain": [
       "'1998'"
      ]
     },
     "execution_count": 16,
     "metadata": {},
     "output_type": "execute_result"
    }
   ],
   "source": [
    "thisDict['Year']"
   ]
  },
  {
   "cell_type": "code",
   "execution_count": 32,
   "id": "32609616",
   "metadata": {},
   "outputs": [
    {
     "name": "stdout",
     "output_type": "stream",
     "text": [
      "Value Search: Set\n",
      "The value is not present\n"
     ]
    }
   ],
   "source": [
    "thisDict = {\n",
    "    'Name of The Book': 'Harry Potter and The Chamber of Secrets',\n",
    "    'Author': 'J.K Rowling',\n",
    "    'Year': '1998',\n",
    "    'Genre': 'Fantasy',\n",
    "    'Set in': 'United Kingdom',\n",
    "    'Pages': '251'}\n",
    "\n",
    "valuesearch = input(\"Value Search: \")\n",
    "\n",
    "if valuesearch in thisDict.keys():\n",
    "    print(\"The value is in the library\")\n",
    "else:\n",
    "    print(\"The value is not present\")"
   ]
  },
  {
   "cell_type": "code",
   "execution_count": 29,
   "id": "cab5a9f5",
   "metadata": {},
   "outputs": [
    {
     "name": "stdout",
     "output_type": "stream",
     "text": [
      "Dictionary after swapping:  \n",
      "Keys: Values\n",
      "Harry Potter and The Chamber of Secrets  :  Name of The Book\n",
      "J.K Rowling  :  Author\n",
      "1998  :  Year\n",
      "Fantasy  :  Genre\n",
      "United Kingdom  :  Set in\n",
      "251  :  Pages\n"
     ]
    }
   ],
   "source": [
    "thisDict = {\n",
    "    'Name of The Book': 'Harry Potter and The Chamber of Secrets',\n",
    "    'Author': 'J.K Rowling',\n",
    "    'Year': '1998',\n",
    "    'Genre': 'Fantasy',\n",
    "    'Set in': 'United Kingdom',\n",
    "    'Pages': '251'}\n",
    "\n",
    "old_dict = thisDict\n",
    " \n",
    "new_dict = dict([(value, key) for key, value in old_dict.items()])\n",
    "   \n",
    "print (\"Dictionary after swapping:  \") \n",
    "print(\"Keys: Values\")\n",
    "for i in new_dict:\n",
    "    print(i, \" : \", new_dict[i])"
   ]
  },
  {
   "cell_type": "markdown",
   "id": "b4b4e426",
   "metadata": {},
   "source": [
    "# Exercise 03\n",
    "Define a function that creates a dictionary of the first n fibonacci numbers as values paired with their indices as keys. "
   ]
  },
  {
   "cell_type": "code",
   "execution_count": 15,
   "id": "7845b5a4",
   "metadata": {},
   "outputs": [],
   "source": []
  }
 ],
 "metadata": {
  "kernelspec": {
   "display_name": "Python 3 (ipykernel)",
   "language": "python",
   "name": "python3"
  },
  "language_info": {
   "codemirror_mode": {
    "name": "ipython",
    "version": 3
   },
   "file_extension": ".py",
   "mimetype": "text/x-python",
   "name": "python",
   "nbconvert_exporter": "python",
   "pygments_lexer": "ipython3",
   "version": "3.8.18"
  }
 },
 "nbformat": 4,
 "nbformat_minor": 5
}
