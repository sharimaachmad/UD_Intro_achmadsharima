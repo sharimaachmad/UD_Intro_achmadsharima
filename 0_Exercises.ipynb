{
 "cells": [
  {
   "cell_type": "markdown",
   "id": "529d91ae",
   "metadata": {},
   "source": [
    "# Exercise 00\n",
    "Write a bit of code that prints _Introduction to Programming_ to the console and execute the cell"
   ]
  },
  {
   "cell_type": "code",
   "execution_count": 1,
   "id": "98711beb",
   "metadata": {},
   "outputs": [
    {
     "name": "stdout",
     "output_type": "stream",
     "text": [
      "Introduction to Programming\n"
     ]
    }
   ],
   "source": [
    "print (\"Introduction to Programming\")"
   ]
  },
  {
   "cell_type": "markdown",
   "id": "63ad5023",
   "metadata": {},
   "source": [
    "-----------------------------------------------------------------------------\n",
    "# Exercise 01\n",
    "Hello World is traditionally the first program anyone writes. It is\n",
    "very simple and the only thing it should do is print Hello World! to the\n",
    "terminal window.\n",
    "Create a file called HelloWorld.py and edit the contents so it prints Hello World! to the terminal and execute it using the command line."
   ]
  },
  {
   "cell_type": "markdown",
   "id": "a4a7c4c2",
   "metadata": {},
   "source": [
    "-----------------------------------------------------------------------------\n",
    "# Exercise 02\n",
    "Write some code to print your name, email, and age on separate lines. For each element first assign it to a variable and use the variable to print. \n",
    "\n",
    "Bonus: try to create the print statement for all variable in one line of code. (hint: '\\n' is the character for a new line)"
   ]
  },
  {
   "cell_type": "code",
   "execution_count": 15,
   "id": "fc8fface",
   "metadata": {},
   "outputs": [
    {
     "name": "stdout",
     "output_type": "stream",
     "text": [
      "Sharima Achmad \n",
      "ucbqs14@ucl.ac.uk \n",
      "27\n"
     ]
    }
   ],
   "source": [
    "print(\"Sharima Achmad \\nucbqs14@ucl.ac.uk \\n27\")"
   ]
  },
  {
   "cell_type": "markdown",
   "id": "0dd1c1d1",
   "metadata": {},
   "source": [
    "-----------------------------------------------------------------------------\n",
    "# Exercise 03\n",
    "Print the numbers 0, 178, -21, 2938 divided by 49, 436 multiplied with 9948 and 12 to the power of 20\n",
    "\n",
    "(Hint: Look up the documentation of basic arithmetic operators)"
   ]
  },
  {
   "cell_type": "code",
   "execution_count": 2,
   "id": "f3d5d009",
   "metadata": {},
   "outputs": [
    {
     "name": "stdout",
     "output_type": "stream",
     "text": [
      "0\n",
      "178\n",
      "-21\n",
      "59.95918367346939\n",
      "4337328\n",
      "3833759992447475122176\n"
     ]
    }
   ],
   "source": [
    "print (0)\n",
    "print (178)\n",
    "print (-21)\n",
    "print (2938/49)\n",
    "print (436*9948)\n",
    "print (12**20)"
   ]
  },
  {
   "cell_type": "markdown",
   "id": "1f151455",
   "metadata": {},
   "source": [
    "-----------------------------------------------------------------------------\n",
    "# Exercise 04\n",
    "Print sin(200), cos(100), tan($\\pi$/4)\n",
    "\n",
    "(Hint: Look up for how to use trigonometric function, and how to get the value of $\\pi$.)"
   ]
  },
  {
   "cell_type": "code",
   "execution_count": 21,
   "id": "d0e37690",
   "metadata": {},
   "outputs": [
    {
     "name": "stdout",
     "output_type": "stream",
     "text": [
      "-0.34202014332566866\n",
      "-0.1736481776669303\n",
      "0.9999999999999999\n"
     ]
    }
   ],
   "source": [
    "import math\n",
    "math.pi\n",
    "\n",
    "print (math.sin(math.radians(200)))\n",
    "print (math.cos(math.radians(100)))\n",
    "print (math.tan(math.pi/4))"
   ]
  },
  {
   "cell_type": "markdown",
   "id": "9d026820",
   "metadata": {},
   "source": [
    "-----------------------------------------------------------------------------\n",
    "# Exercise 05\n",
    "Write a program to read your first and last names from the console seperately, and then print them on the console together, separated by a space."
   ]
  },
  {
   "cell_type": "code",
   "execution_count": 33,
   "id": "4c7217e0",
   "metadata": {},
   "outputs": [
    {
     "name": "stdout",
     "output_type": "stream",
     "text": [
      "First Name Sharima\n",
      "Last Name Achmad\n",
      "Fullname Sharima Achmad\n"
     ]
    }
   ],
   "source": [
    "firstname = input(\"First Name\"+\" \")\n",
    "lastname = input(\"Last Name\"+\" \")\n",
    "\n",
    "fullname = firstname + \" \" + lastname\n",
    "\n",
    "print (\"Fullname\",fullname)"
   ]
  },
  {
   "cell_type": "markdown",
   "id": "e83fa346",
   "metadata": {},
   "source": [
    "-----------------------------------------------------------------------------\n",
    "# Exercise 06\n",
    "Write a program that determines whether a number given as user input is positive or negative\n",
    " \n",
    "You will need to convert the console input from a string to a number first!"
   ]
  },
  {
   "cell_type": "code",
   "execution_count": 5,
   "id": "ecd924c2",
   "metadata": {},
   "outputs": [
    {
     "name": "stdout",
     "output_type": "stream",
     "text": [
      "Number 1\n",
      "number is positive\n"
     ]
    }
   ],
   "source": [
    "number = int(input(\"Number\"+\" \"))\n",
    "if number <0: \n",
    "    print (\"number is negative\")\n",
    "else:\n",
    "    print (\"number is positive\")"
   ]
  },
  {
   "cell_type": "markdown",
   "id": "2a192596",
   "metadata": {},
   "source": [
    "-----------------------------------------------------------------------------\n",
    "# Exercise 07\n",
    "Write a program that picks a random number between 1-20 and makes the user guess until they get the number right. Then print a congratulations message\n",
    "- (Find out yourself how to generate a random integer)\n",
    "- Bonus: make the user choose the range within which they have to guess\n",
    "- Bonus: keep track of how many guesses were made and print this at the end"
   ]
  },
  {
   "cell_type": "code",
   "execution_count": null,
   "id": "70358dd3",
   "metadata": {},
   "outputs": [],
   "source": [
    "import random\n",
    "\n",
    "num1 = random.randint(1, 20)\n",
    "\n",
    "while True:\n",
    "    user_input = int(input(\"Choose a Random Number Between 1-20: \"))\n",
    "\n",
    "    if user_input != num1:\n",
    "        print(\"You're Wrong! Try again\")\n",
    "    else:\n",
    "        print(\"Congratulations! You're Right!\")\n",
    "        break"
   ]
  },
  {
   "cell_type": "code",
   "execution_count": 2,
   "id": "47951a40",
   "metadata": {},
   "outputs": [
    {
     "name": "stdout",
     "output_type": "stream",
     "text": [
      "Choose a Random Number Between 1-20: 1\n",
      "You're Wrong! Try again\n",
      "Number of Tries:  1\n",
      "Choose a Random Number Between 1-20: 2\n",
      "You're Wrong! Try again\n",
      "Number of Tries:  2\n",
      "Choose a Random Number Between 1-20: 3\n",
      "You're Wrong! Try again\n",
      "Number of Tries:  3\n",
      "Choose a Random Number Between 1-20: 4\n",
      "You're Wrong! Try again\n",
      "Number of Tries:  4\n",
      "Choose a Random Number Between 1-20: 5\n",
      "You're Wrong! Try again\n",
      "Number of Tries:  5\n",
      "Choose a Random Number Between 1-20: 6\n",
      "You're Wrong! Try again\n",
      "Number of Tries:  6\n",
      "Choose a Random Number Between 1-20: 7\n",
      "You're Wrong! Try again\n",
      "Number of Tries:  7\n",
      "Choose a Random Number Between 1-20: 8\n",
      "You're Wrong! Try again\n",
      "Number of Tries:  8\n",
      "Choose a Random Number Between 1-20: 9\n",
      "You're Wrong! Try again\n",
      "Number of Tries:  9\n",
      "Choose a Random Number Between 1-20: 10\n",
      "Congratulations! You're Right!\n",
      "Number of Tries:  10\n"
     ]
    }
   ],
   "source": [
    "import random\n",
    "\n",
    "num1 = random.randint(1, 20)\n",
    "guess_number = 0\n",
    "\n",
    "while True:\n",
    "    user_input = int(input(\"Choose a Random Number Between 1-20: \"))\n",
    "\n",
    "    if user_input != num1:\n",
    "        print(\"You're Wrong! Try again\")\n",
    "        guess_number += 1\n",
    "        print(\"Number of Tries: \", +guess_number)\n",
    "    else:\n",
    "        print(\"Congratulations! You're Right!\")\n",
    "        guess_number += 1\n",
    "        print(\"Number of Tries: \", +guess_number)\n",
    "        break"
   ]
  },
  {
   "cell_type": "markdown",
   "id": "d53b9c07",
   "metadata": {},
   "source": [
    "-----------------------------------------------------------------------------\n",
    "# Exercise 08\n",
    "Ask a sentence as input, then print the words in alphabetical order.\n",
    "Hint: look up how to split up a string"
   ]
  },
  {
   "cell_type": "code",
   "execution_count": 1,
   "id": "b6524cf5",
   "metadata": {},
   "outputs": [
    {
     "name": "stdout",
     "output_type": "stream",
     "text": [
      "The Sentence: i love you so much\n",
      "Words in Order\n",
      "i\n",
      "love\n",
      "much\n",
      "so\n",
      "you\n"
     ]
    }
   ],
   "source": [
    "sentence = input(\"The Sentence: \")\n",
    "words = sentence.split()\n",
    "\n",
    "words_1 = sorted(words)\n",
    "print(\"Words in Order\")\n",
    "for word in words_1:\n",
    "    print(word)"
   ]
  },
  {
   "cell_type": "markdown",
   "id": "09a7b060",
   "metadata": {},
   "source": [
    "-----------------------------------------------------------------------------\n",
    "# Exercise 09\n",
    "Write a program using for loops to print a christmas tree of x lines high\n",
    "specified by the user.\n",
    "(use for loops)\n",
    "so for instance, a chrismas tree of 4 high should looks like this:\n",
    "\n",
    "```\n",
    "\n",
    "    *\n",
    "   ***\n",
    "  *****\n",
    " *******\n",
    "    |\n",
    "\n",
    "```\n",
    "\n",
    "hint: first combine strings into a variable before printing"
   ]
  },
  {
   "cell_type": "code",
   "execution_count": null,
   "id": "5150f7a4",
   "metadata": {},
   "outputs": [],
   "source": []
  },
  {
   "cell_type": "markdown",
   "id": "07f67531",
   "metadata": {},
   "source": [
    "-----------------------------------------------------------------------------\n",
    "# Exercise 10\n",
    "Write a piece of code that prints the first $n$ numbers of the padovan sequence"
   ]
  },
  {
   "cell_type": "code",
   "execution_count": null,
   "id": "d301c61b",
   "metadata": {},
   "outputs": [],
   "source": []
  }
 ],
 "metadata": {
  "kernelspec": {
   "display_name": "Python 3 (ipykernel)",
   "language": "python",
   "name": "python3"
  },
  "language_info": {
   "codemirror_mode": {
    "name": "ipython",
    "version": 3
   },
   "file_extension": ".py",
   "mimetype": "text/x-python",
   "name": "python",
   "nbconvert_exporter": "python",
   "pygments_lexer": "ipython3",
   "version": "3.11.5"
  }
 },
 "nbformat": 4,
 "nbformat_minor": 5
}
