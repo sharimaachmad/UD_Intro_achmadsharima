{
 "cells": [
  {
   "cell_type": "code",
   "execution_count": null,
   "id": "1b7b1d2d",
   "metadata": {},
   "outputs": [],
   "source": [
    "# Beatriz Gonzalez, Saafaa Rachid, Sharima Achmad"
   ]
  },
  {
   "cell_type": "code",
   "execution_count": 1,
   "id": "61a330fd",
   "metadata": {},
   "outputs": [],
   "source": [
    "import selenium \n",
    "from selenium import webdriver\n",
    "from selenium.webdriver.common.by import By\n",
    "from selenium.webdriver.common.keys import Keys\n",
    "from selenium.webdriver.support.ui import Select\n",
    "from selenium.webdriver.support.ui import WebDriverWait\n",
    "from selenium.webdriver.support import expected_conditions as EC\n",
    "from time import sleep\n",
    "import re"
   ]
  },
  {
   "cell_type": "code",
   "execution_count": 2,
   "id": "396b9ca7",
   "metadata": {},
   "outputs": [],
   "source": [
    "url=\"https://www.dezeen.com/\""
   ]
  },
  {
   "cell_type": "code",
   "execution_count": 3,
   "id": "06a8ac65",
   "metadata": {},
   "outputs": [],
   "source": [
    "link_list=[]\n",
    "driver=[]\n",
    "name=[]"
   ]
  },
  {
   "cell_type": "code",
   "execution_count": 4,
   "id": "a375cc75",
   "metadata": {},
   "outputs": [],
   "source": [
    "def extract_page_data(driver):\n",
    "    #Get all projects\n",
    "    projects=driver.find_elements(\"class name\", \"ais-Hits-list\")\n",
    "    sleep(10)\n",
    "\n",
    "    print(len(projects))\n",
    "\n",
    "    for p in range(len(projects)):\n",
    "        \n",
    "            #Extracting title\n",
    "            name = projects[p].find_element(\"class name\",\"title link-invert dotdotdot ddd-truncated\").text\n",
    "            print(name)\n",
    "          \n",
    "            #Extraction of links\n",
    "            link = projects[p].find_element(\"class name\",\"title link-invert dotdotdot ddd-truncated\").get_attribute('href')\n",
    "            #print(link)\n",
    "        \n",
    "                  \n",
    "            #Add item to the respective lists\n",
    "            name_list.append(name)\n",
    "            link_list.append(link)\n",
    "            sleep(2)  "
   ]
  },
  {
   "cell_type": "code",
   "execution_count": 5,
   "id": "7172b016",
   "metadata": {},
   "outputs": [
    {
     "ename": "NoSuchElementException",
     "evalue": "Message: no such element: Unable to locate element: {\"method\":\"xpath\",\"selector\":\"/html/body/div[5]/div/div[1]/div[2]/nav/ul/li[2]/a\"}\n  (Session info: chrome=117.0.5938.150); For documentation on this error, please visit: https://www.selenium.dev/documentation/webdriver/troubleshooting/errors#no-such-element-exception\nStacktrace:\n\tGetHandleVerifier [0x00007FF6C0627D12+55474]\n\t(No symbol) [0x00007FF6C05977C2]\n\t(No symbol) [0x00007FF6C044E0EB]\n\t(No symbol) [0x00007FF6C048EBAC]\n\t(No symbol) [0x00007FF6C048ED2C]\n\t(No symbol) [0x00007FF6C04C9F77]\n\t(No symbol) [0x00007FF6C04AF19F]\n\t(No symbol) [0x00007FF6C04C7EF2]\n\t(No symbol) [0x00007FF6C04AEF33]\n\t(No symbol) [0x00007FF6C0483D41]\n\t(No symbol) [0x00007FF6C0484F84]\n\tGetHandleVerifier [0x00007FF6C098B762+3609346]\n\tGetHandleVerifier [0x00007FF6C09E1A80+3962400]\n\tGetHandleVerifier [0x00007FF6C09D9F0F+3930799]\n\tGetHandleVerifier [0x00007FF6C06C3CA6+694342]\n\t(No symbol) [0x00007FF6C05A2218]\n\t(No symbol) [0x00007FF6C059E484]\n\t(No symbol) [0x00007FF6C059E5B2]\n\t(No symbol) [0x00007FF6C058EE13]\n\tBaseThreadInitThunk [0x00007FFE0B61257D+29]\n\tRtlUserThreadStart [0x00007FFE0C4EAA68+40]\n",
     "output_type": "error",
     "traceback": [
      "\u001b[1;31m---------------------------------------------------------------------------\u001b[0m",
      "\u001b[1;31mNoSuchElementException\u001b[0m                    Traceback (most recent call last)",
      "Cell \u001b[1;32mIn[5], line 20\u001b[0m\n\u001b[0;32m     17\u001b[0m sleep(\u001b[38;5;241m5\u001b[39m)\n\u001b[0;32m     19\u001b[0m \u001b[38;5;66;03m#Select the project category\u001b[39;00m\n\u001b[1;32m---> 20\u001b[0m \u001b[43mdriver\u001b[49m\u001b[38;5;241;43m.\u001b[39;49m\u001b[43mfind_element\u001b[49m\u001b[43m(\u001b[49m\u001b[38;5;124;43m\"\u001b[39;49m\u001b[38;5;124;43mxpath\u001b[39;49m\u001b[38;5;124;43m\"\u001b[39;49m\u001b[43m,\u001b[49m\u001b[38;5;124;43m\"\u001b[39;49m\u001b[38;5;124;43m/html/body/div[5]/div/div[1]/div[2]/nav/ul/li[2]/a\u001b[39;49m\u001b[38;5;124;43m\"\u001b[39;49m\u001b[43m)\u001b[49m\u001b[38;5;241m.\u001b[39mclick()\n\u001b[0;32m     21\u001b[0m sleep(\u001b[38;5;241m6\u001b[39m)\n\u001b[0;32m     23\u001b[0m \u001b[38;5;66;03m#Create empty lists to store data\u001b[39;00m\n",
      "File \u001b[1;32m~\\anaconda3\\envs\\py38\\lib\\site-packages\\selenium\\webdriver\\remote\\webdriver.py:738\u001b[0m, in \u001b[0;36mWebDriver.find_element\u001b[1;34m(self, by, value)\u001b[0m\n\u001b[0;32m    735\u001b[0m     by \u001b[38;5;241m=\u001b[39m By\u001b[38;5;241m.\u001b[39mCSS_SELECTOR\n\u001b[0;32m    736\u001b[0m     value \u001b[38;5;241m=\u001b[39m \u001b[38;5;124mf\u001b[39m\u001b[38;5;124m'\u001b[39m\u001b[38;5;124m[name=\u001b[39m\u001b[38;5;124m\"\u001b[39m\u001b[38;5;132;01m{\u001b[39;00mvalue\u001b[38;5;132;01m}\u001b[39;00m\u001b[38;5;124m\"\u001b[39m\u001b[38;5;124m]\u001b[39m\u001b[38;5;124m'\u001b[39m\n\u001b[1;32m--> 738\u001b[0m \u001b[38;5;28;01mreturn\u001b[39;00m \u001b[38;5;28;43mself\u001b[39;49m\u001b[38;5;241;43m.\u001b[39;49m\u001b[43mexecute\u001b[49m\u001b[43m(\u001b[49m\u001b[43mCommand\u001b[49m\u001b[38;5;241;43m.\u001b[39;49m\u001b[43mFIND_ELEMENT\u001b[49m\u001b[43m,\u001b[49m\u001b[43m \u001b[49m\u001b[43m{\u001b[49m\u001b[38;5;124;43m\"\u001b[39;49m\u001b[38;5;124;43musing\u001b[39;49m\u001b[38;5;124;43m\"\u001b[39;49m\u001b[43m:\u001b[49m\u001b[43m \u001b[49m\u001b[43mby\u001b[49m\u001b[43m,\u001b[49m\u001b[43m \u001b[49m\u001b[38;5;124;43m\"\u001b[39;49m\u001b[38;5;124;43mvalue\u001b[39;49m\u001b[38;5;124;43m\"\u001b[39;49m\u001b[43m:\u001b[49m\u001b[43m \u001b[49m\u001b[43mvalue\u001b[49m\u001b[43m}\u001b[49m\u001b[43m)\u001b[49m[\u001b[38;5;124m\"\u001b[39m\u001b[38;5;124mvalue\u001b[39m\u001b[38;5;124m\"\u001b[39m]\n",
      "File \u001b[1;32m~\\anaconda3\\envs\\py38\\lib\\site-packages\\selenium\\webdriver\\remote\\webdriver.py:344\u001b[0m, in \u001b[0;36mWebDriver.execute\u001b[1;34m(self, driver_command, params)\u001b[0m\n\u001b[0;32m    342\u001b[0m response \u001b[38;5;241m=\u001b[39m \u001b[38;5;28mself\u001b[39m\u001b[38;5;241m.\u001b[39mcommand_executor\u001b[38;5;241m.\u001b[39mexecute(driver_command, params)\n\u001b[0;32m    343\u001b[0m \u001b[38;5;28;01mif\u001b[39;00m response:\n\u001b[1;32m--> 344\u001b[0m     \u001b[38;5;28;43mself\u001b[39;49m\u001b[38;5;241;43m.\u001b[39;49m\u001b[43merror_handler\u001b[49m\u001b[38;5;241;43m.\u001b[39;49m\u001b[43mcheck_response\u001b[49m\u001b[43m(\u001b[49m\u001b[43mresponse\u001b[49m\u001b[43m)\u001b[49m\n\u001b[0;32m    345\u001b[0m     response[\u001b[38;5;124m\"\u001b[39m\u001b[38;5;124mvalue\u001b[39m\u001b[38;5;124m\"\u001b[39m] \u001b[38;5;241m=\u001b[39m \u001b[38;5;28mself\u001b[39m\u001b[38;5;241m.\u001b[39m_unwrap_value(response\u001b[38;5;241m.\u001b[39mget(\u001b[38;5;124m\"\u001b[39m\u001b[38;5;124mvalue\u001b[39m\u001b[38;5;124m\"\u001b[39m, \u001b[38;5;28;01mNone\u001b[39;00m))\n\u001b[0;32m    346\u001b[0m     \u001b[38;5;28;01mreturn\u001b[39;00m response\n",
      "File \u001b[1;32m~\\anaconda3\\envs\\py38\\lib\\site-packages\\selenium\\webdriver\\remote\\errorhandler.py:229\u001b[0m, in \u001b[0;36mErrorHandler.check_response\u001b[1;34m(self, response)\u001b[0m\n\u001b[0;32m    227\u001b[0m         alert_text \u001b[38;5;241m=\u001b[39m value[\u001b[38;5;124m\"\u001b[39m\u001b[38;5;124malert\u001b[39m\u001b[38;5;124m\"\u001b[39m]\u001b[38;5;241m.\u001b[39mget(\u001b[38;5;124m\"\u001b[39m\u001b[38;5;124mtext\u001b[39m\u001b[38;5;124m\"\u001b[39m)\n\u001b[0;32m    228\u001b[0m     \u001b[38;5;28;01mraise\u001b[39;00m exception_class(message, screen, stacktrace, alert_text)  \u001b[38;5;66;03m# type: ignore[call-arg]  # mypy is not smart enough here\u001b[39;00m\n\u001b[1;32m--> 229\u001b[0m \u001b[38;5;28;01mraise\u001b[39;00m exception_class(message, screen, stacktrace)\n",
      "\u001b[1;31mNoSuchElementException\u001b[0m: Message: no such element: Unable to locate element: {\"method\":\"xpath\",\"selector\":\"/html/body/div[5]/div/div[1]/div[2]/nav/ul/li[2]/a\"}\n  (Session info: chrome=117.0.5938.150); For documentation on this error, please visit: https://www.selenium.dev/documentation/webdriver/troubleshooting/errors#no-such-element-exception\nStacktrace:\n\tGetHandleVerifier [0x00007FF6C0627D12+55474]\n\t(No symbol) [0x00007FF6C05977C2]\n\t(No symbol) [0x00007FF6C044E0EB]\n\t(No symbol) [0x00007FF6C048EBAC]\n\t(No symbol) [0x00007FF6C048ED2C]\n\t(No symbol) [0x00007FF6C04C9F77]\n\t(No symbol) [0x00007FF6C04AF19F]\n\t(No symbol) [0x00007FF6C04C7EF2]\n\t(No symbol) [0x00007FF6C04AEF33]\n\t(No symbol) [0x00007FF6C0483D41]\n\t(No symbol) [0x00007FF6C0484F84]\n\tGetHandleVerifier [0x00007FF6C098B762+3609346]\n\tGetHandleVerifier [0x00007FF6C09E1A80+3962400]\n\tGetHandleVerifier [0x00007FF6C09D9F0F+3930799]\n\tGetHandleVerifier [0x00007FF6C06C3CA6+694342]\n\t(No symbol) [0x00007FF6C05A2218]\n\t(No symbol) [0x00007FF6C059E484]\n\t(No symbol) [0x00007FF6C059E5B2]\n\t(No symbol) [0x00007FF6C058EE13]\n\tBaseThreadInitThunk [0x00007FFE0B61257D+29]\n\tRtlUserThreadStart [0x00007FFE0C4EAA68+40]\n"
     ]
    }
   ],
   "source": [
    "driver = webdriver.Chrome()\n",
    "\n",
    "driver.maximize_window()\n",
    "driver.implicitly_wait(2)\n",
    "\n",
    "driver.get(url)\n",
    "\n",
    "driver.find_element(\"xpath\", '//*[@id=\"CybotCookiebotDialogBodyLevelButtonLevelOptinAllowAll\"]').click()\n",
    "\n",
    "#Step 1: identify search box\n",
    "search_query = driver.find_element('xpath','//*[@id=\"ais-SearchBox-input\"]')\n",
    "\n",
    "#Step 2: search a topic\n",
    "search_query.send_keys('OMA')\n",
    "search_query.send_keys(Keys.RETURN)\n",
    "#Delay\n",
    "sleep(5)\n",
    "\n",
    "#Select the project category\n",
    "driver.find_element(\"xpath\",\"/html/body/div[5]/div/div[1]/div[2]/nav/ul/li[2]/a\").click()\n",
    "sleep(6)\n",
    "\n",
    "#Create empty lists to store data\n",
    "name_list=[]\n",
    "link_list=[]\n",
    "\n",
    "\n",
    "# Get scroll height\n",
    "last_height = driver.execute_script(\"return document.body.scrollHeight\")\n",
    "\n",
    "while True:\n",
    "    # Scroll down \n",
    "    driver.execute_script(\"window.scrollTo(0, document.body.scrollHeight);\")\n",
    "    sleep(5)\n",
    "\n",
    "    # Calculate new scroll height and compare with last scroll height\n",
    "    new_height = driver.execute_script(\"return document.body.scrollHeight\")\n",
    "    \n",
    "    if new_height == last_height:\n",
    "        break\n",
    "    last_height = new_height\n",
    "\n",
    "\n",
    "#Run the function to gather the data\n",
    "extract_page_data(driver)\n",
    "\n",
    "\n",
    "#Close the webpage\n",
    "driver.quit()"
   ]
  },
  {
   "cell_type": "code",
   "execution_count": 122,
   "id": "9fdcab33",
   "metadata": {},
   "outputs": [
    {
     "name": "stdout",
     "output_type": "stream",
     "text": [
      "None\n",
      "None\n"
     ]
    }
   ],
   "source": [
    "#Write the data to a csv file\n",
    "\n",
    "import csv \n",
    "        \n",
    "with open('dezeenlinks.csv', 'w',newline='') as csvfile: \n",
    "    writer = csv.writer(csvfile) \n",
    "    for link in link_list:\n",
    "        print(link)\n",
    "        writer.writerow([link])"
   ]
  },
  {
   "cell_type": "code",
   "execution_count": null,
   "id": "b88d591b",
   "metadata": {},
   "outputs": [],
   "source": [
    "## Iterate through the csv and download the images\n",
    "#import library\n",
    "import requests\n",
    "\n",
    "driver = webdriver.Chrome()\n",
    "\n",
    "#define a counter for naming \n",
    "i=0\n",
    "\n",
    "#read the produced csv and iterate through the list\n",
    "with open(\"dezeenlinks.csv\", 'r',encoding='utf-8') as file:\n",
    "    csvreader = csv.reader(file)    \n",
    "    for url in csvreader:       \n",
    "                \n",
    "        #open each link \n",
    "        driver.get(url[0])\n",
    "        sleep(2)\n",
    "        \n",
    "        #find the image link\n",
    "        imglink = driver.find_element(\"tag name\",\"source\").get_attribute('srcset') \n",
    "        \n",
    "        \n",
    "        print(imglink)\n",
    "        i += 1    \n",
    "        \n",
    "        response = requests.get(imglink)\n",
    "        #name the images\n",
    "        imagename=\"image\" + str(i)+\".jpg\"\n",
    "        #save the images\n",
    "        with open(imagename, \"wb\") as f:\n",
    "            f.write(response.content)\n",
    "       \n",
    "    \n",
    "#Close the webpage\n",
    "driver.quit()"
   ]
  }
 ],
 "metadata": {
  "kernelspec": {
   "display_name": "Python 3 (ipykernel)",
   "language": "python",
   "name": "python3"
  },
  "language_info": {
   "codemirror_mode": {
    "name": "ipython",
    "version": 3
   },
   "file_extension": ".py",
   "mimetype": "text/x-python",
   "name": "python",
   "nbconvert_exporter": "python",
   "pygments_lexer": "ipython3",
   "version": "3.8.18"
  }
 },
 "nbformat": 4,
 "nbformat_minor": 5
}
