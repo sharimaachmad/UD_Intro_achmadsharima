{
 "cells": [
  {
   "cell_type": "code",
   "execution_count": null,
   "id": "a7204ea8",
   "metadata": {},
   "outputs": [],
   "source": [
    "# Beatriz Gonzalez Arechiga, Safaa Rachid, Sharima Achmad"
   ]
  },
  {
   "cell_type": "code",
   "execution_count": 9,
   "id": "cfd5f134",
   "metadata": {},
   "outputs": [],
   "source": [
    "import selenium \n",
    "from selenium import webdriver\n",
    "from selenium.webdriver.common.by import By\n",
    "from selenium.webdriver.common.keys import Keys\n",
    "from selenium.webdriver.support.ui import Select\n",
    "from selenium.webdriver.support.ui import WebDriverWait\n",
    "from selenium.webdriver.support import expected_conditions as EC\n",
    "from time import sleep"
   ]
  },
  {
   "cell_type": "code",
   "execution_count": 10,
   "id": "09b57044",
   "metadata": {},
   "outputs": [],
   "source": [
    "url=\"https://www.designboom.com/\""
   ]
  },
  {
   "cell_type": "code",
   "execution_count": 11,
   "id": "818030cf",
   "metadata": {},
   "outputs": [],
   "source": [
    "def extract_page_data(driver):\n",
    "    #Get all projects\n",
    "    WebDriverWait(driver, 10).until(EC.presence_of_element_located((By.CLASS_NAME, \"gs-webResult\")))\n",
    "\n",
    "    projects = driver.find_elements(By.CLASS_NAME, \"gs-webResult\")\n",
    "    \n",
    "    print(len(projects))\n",
    "\n",
    "    for p in range(len(projects)):\n",
    "        \n",
    "            #Extracting title\n",
    "            name = projects[p].find_element(By.CLASS_NAME,\"gs-title\").text\n",
    "            print(name)\n",
    "          \n",
    "            #Extraction of links\n",
    "            link = projects[p].find_element(By.CLASS_NAME,\"gs-image\").get_attribute('href')\n",
    "            #print(link)\n",
    "        \n",
    "                  \n",
    "            #Add item to the respective lists\n",
    "            name_list.append(name)\n",
    "            link_list.append(link)\n",
    "            sleep(2)  "
   ]
  },
  {
   "cell_type": "code",
   "execution_count": 12,
   "id": "a81445c8",
   "metadata": {},
   "outputs": [
    {
     "name": "stdout",
     "output_type": "stream",
     "text": [
      "11\n",
      "OMA / rem koolhaas | architecture and interiors news and projects\n",
      "OMA's factory international takes shape in manchester as a cultural ...\n",
      "the factory: OMA-designed cultural venue in manchester moves ahead\n",
      "OMA suspends see-through trapezoidal office over a plaza in munich\n",
      "OMA's buffalo AKG art museum opens, inviting the public under its ...\n",
      "solidnature debuts at milan design week with pieces by sabine ...\n",
      "manchester approves OMA-designed 'factory' cultural venue\n",
      "desa potato head bali: the OMA-designed creative village ...\n",
      "OMA / shohei shigematsu's galleries + studio at denver art museum\n",
      "OMA / shohei shigematsu design 'ReefLine' underwater public ...\n",
      "\n"
     ]
    },
    {
     "ename": "NoSuchElementException",
     "evalue": "Message: no such element: Unable to locate element: {\"method\":\"css selector\",\"selector\":\".gs-image\"}\n  (Session info: chrome=117.0.5938.150); For documentation on this error, please visit: https://www.selenium.dev/documentation/webdriver/troubleshooting/errors#no-such-element-exception\nStacktrace:\n\tGetHandleVerifier [0x00007FF6C0627D12+55474]\n\t(No symbol) [0x00007FF6C05977C2]\n\t(No symbol) [0x00007FF6C044E0EB]\n\t(No symbol) [0x00007FF6C048EBAC]\n\t(No symbol) [0x00007FF6C048ED2C]\n\t(No symbol) [0x00007FF6C04857AC]\n\t(No symbol) [0x00007FF6C04AF19F]\n\t(No symbol) [0x00007FF6C04856E6]\n\t(No symbol) [0x00007FF6C04AF370]\n\t(No symbol) [0x00007FF6C04C7EF2]\n\t(No symbol) [0x00007FF6C04AEF33]\n\t(No symbol) [0x00007FF6C0483D41]\n\t(No symbol) [0x00007FF6C0484F84]\n\tGetHandleVerifier [0x00007FF6C098B762+3609346]\n\tGetHandleVerifier [0x00007FF6C09E1A80+3962400]\n\tGetHandleVerifier [0x00007FF6C09D9F0F+3930799]\n\tGetHandleVerifier [0x00007FF6C06C3CA6+694342]\n\t(No symbol) [0x00007FF6C05A2218]\n\t(No symbol) [0x00007FF6C059E484]\n\t(No symbol) [0x00007FF6C059E5B2]\n\t(No symbol) [0x00007FF6C058EE13]\n\tBaseThreadInitThunk [0x00007FFE0B61257D+29]\n\tRtlUserThreadStart [0x00007FFE0C4EAA68+40]\n",
     "output_type": "error",
     "traceback": [
      "\u001b[1;31m---------------------------------------------------------------------------\u001b[0m",
      "\u001b[1;31mNoSuchElementException\u001b[0m                    Traceback (most recent call last)",
      "Cell \u001b[1;32mIn[12], line 44\u001b[0m\n\u001b[0;32m     40\u001b[0m     last_height \u001b[38;5;241m=\u001b[39m new_height\n\u001b[0;32m     43\u001b[0m \u001b[38;5;66;03m#Run the function to gather the data\u001b[39;00m\n\u001b[1;32m---> 44\u001b[0m \u001b[43mextract_page_data\u001b[49m\u001b[43m(\u001b[49m\u001b[43mdriver\u001b[49m\u001b[43m)\u001b[49m\n\u001b[0;32m     47\u001b[0m \u001b[38;5;66;03m#Close the webpage\u001b[39;00m\n\u001b[0;32m     48\u001b[0m driver\u001b[38;5;241m.\u001b[39mquit()\n",
      "Cell \u001b[1;32mIn[11], line 16\u001b[0m, in \u001b[0;36mextract_page_data\u001b[1;34m(driver)\u001b[0m\n\u001b[0;32m     13\u001b[0m \u001b[38;5;28mprint\u001b[39m(name)\n\u001b[0;32m     15\u001b[0m \u001b[38;5;66;03m#Extraction of links\u001b[39;00m\n\u001b[1;32m---> 16\u001b[0m link \u001b[38;5;241m=\u001b[39m \u001b[43mprojects\u001b[49m\u001b[43m[\u001b[49m\u001b[43mp\u001b[49m\u001b[43m]\u001b[49m\u001b[38;5;241;43m.\u001b[39;49m\u001b[43mfind_element\u001b[49m\u001b[43m(\u001b[49m\u001b[43mBy\u001b[49m\u001b[38;5;241;43m.\u001b[39;49m\u001b[43mCLASS_NAME\u001b[49m\u001b[43m,\u001b[49m\u001b[38;5;124;43m\"\u001b[39;49m\u001b[38;5;124;43mgs-image\u001b[39;49m\u001b[38;5;124;43m\"\u001b[39;49m\u001b[43m)\u001b[49m\u001b[38;5;241m.\u001b[39mget_attribute(\u001b[38;5;124m'\u001b[39m\u001b[38;5;124mhref\u001b[39m\u001b[38;5;124m'\u001b[39m)\n\u001b[0;32m     17\u001b[0m \u001b[38;5;66;03m#print(link)\u001b[39;00m\n\u001b[0;32m     18\u001b[0m \n\u001b[0;32m     19\u001b[0m       \n\u001b[0;32m     20\u001b[0m \u001b[38;5;66;03m#Add item to the respective lists\u001b[39;00m\n\u001b[0;32m     21\u001b[0m name_list\u001b[38;5;241m.\u001b[39mappend(name)\n",
      "File \u001b[1;32m~\\anaconda3\\envs\\py38\\lib\\site-packages\\selenium\\webdriver\\remote\\webelement.py:416\u001b[0m, in \u001b[0;36mWebElement.find_element\u001b[1;34m(self, by, value)\u001b[0m\n\u001b[0;32m    413\u001b[0m     by \u001b[38;5;241m=\u001b[39m By\u001b[38;5;241m.\u001b[39mCSS_SELECTOR\n\u001b[0;32m    414\u001b[0m     value \u001b[38;5;241m=\u001b[39m \u001b[38;5;124mf\u001b[39m\u001b[38;5;124m'\u001b[39m\u001b[38;5;124m[name=\u001b[39m\u001b[38;5;124m\"\u001b[39m\u001b[38;5;132;01m{\u001b[39;00mvalue\u001b[38;5;132;01m}\u001b[39;00m\u001b[38;5;124m\"\u001b[39m\u001b[38;5;124m]\u001b[39m\u001b[38;5;124m'\u001b[39m\n\u001b[1;32m--> 416\u001b[0m \u001b[38;5;28;01mreturn\u001b[39;00m \u001b[38;5;28;43mself\u001b[39;49m\u001b[38;5;241;43m.\u001b[39;49m\u001b[43m_execute\u001b[49m\u001b[43m(\u001b[49m\u001b[43mCommand\u001b[49m\u001b[38;5;241;43m.\u001b[39;49m\u001b[43mFIND_CHILD_ELEMENT\u001b[49m\u001b[43m,\u001b[49m\u001b[43m \u001b[49m\u001b[43m{\u001b[49m\u001b[38;5;124;43m\"\u001b[39;49m\u001b[38;5;124;43musing\u001b[39;49m\u001b[38;5;124;43m\"\u001b[39;49m\u001b[43m:\u001b[49m\u001b[43m \u001b[49m\u001b[43mby\u001b[49m\u001b[43m,\u001b[49m\u001b[43m \u001b[49m\u001b[38;5;124;43m\"\u001b[39;49m\u001b[38;5;124;43mvalue\u001b[39;49m\u001b[38;5;124;43m\"\u001b[39;49m\u001b[43m:\u001b[49m\u001b[43m \u001b[49m\u001b[43mvalue\u001b[49m\u001b[43m}\u001b[49m\u001b[43m)\u001b[49m[\u001b[38;5;124m\"\u001b[39m\u001b[38;5;124mvalue\u001b[39m\u001b[38;5;124m\"\u001b[39m]\n",
      "File \u001b[1;32m~\\anaconda3\\envs\\py38\\lib\\site-packages\\selenium\\webdriver\\remote\\webelement.py:394\u001b[0m, in \u001b[0;36mWebElement._execute\u001b[1;34m(self, command, params)\u001b[0m\n\u001b[0;32m    392\u001b[0m     params \u001b[38;5;241m=\u001b[39m {}\n\u001b[0;32m    393\u001b[0m params[\u001b[38;5;124m\"\u001b[39m\u001b[38;5;124mid\u001b[39m\u001b[38;5;124m\"\u001b[39m] \u001b[38;5;241m=\u001b[39m \u001b[38;5;28mself\u001b[39m\u001b[38;5;241m.\u001b[39m_id\n\u001b[1;32m--> 394\u001b[0m \u001b[38;5;28;01mreturn\u001b[39;00m \u001b[38;5;28;43mself\u001b[39;49m\u001b[38;5;241;43m.\u001b[39;49m\u001b[43m_parent\u001b[49m\u001b[38;5;241;43m.\u001b[39;49m\u001b[43mexecute\u001b[49m\u001b[43m(\u001b[49m\u001b[43mcommand\u001b[49m\u001b[43m,\u001b[49m\u001b[43m \u001b[49m\u001b[43mparams\u001b[49m\u001b[43m)\u001b[49m\n",
      "File \u001b[1;32m~\\anaconda3\\envs\\py38\\lib\\site-packages\\selenium\\webdriver\\remote\\webdriver.py:344\u001b[0m, in \u001b[0;36mWebDriver.execute\u001b[1;34m(self, driver_command, params)\u001b[0m\n\u001b[0;32m    342\u001b[0m response \u001b[38;5;241m=\u001b[39m \u001b[38;5;28mself\u001b[39m\u001b[38;5;241m.\u001b[39mcommand_executor\u001b[38;5;241m.\u001b[39mexecute(driver_command, params)\n\u001b[0;32m    343\u001b[0m \u001b[38;5;28;01mif\u001b[39;00m response:\n\u001b[1;32m--> 344\u001b[0m     \u001b[38;5;28;43mself\u001b[39;49m\u001b[38;5;241;43m.\u001b[39;49m\u001b[43merror_handler\u001b[49m\u001b[38;5;241;43m.\u001b[39;49m\u001b[43mcheck_response\u001b[49m\u001b[43m(\u001b[49m\u001b[43mresponse\u001b[49m\u001b[43m)\u001b[49m\n\u001b[0;32m    345\u001b[0m     response[\u001b[38;5;124m\"\u001b[39m\u001b[38;5;124mvalue\u001b[39m\u001b[38;5;124m\"\u001b[39m] \u001b[38;5;241m=\u001b[39m \u001b[38;5;28mself\u001b[39m\u001b[38;5;241m.\u001b[39m_unwrap_value(response\u001b[38;5;241m.\u001b[39mget(\u001b[38;5;124m\"\u001b[39m\u001b[38;5;124mvalue\u001b[39m\u001b[38;5;124m\"\u001b[39m, \u001b[38;5;28;01mNone\u001b[39;00m))\n\u001b[0;32m    346\u001b[0m     \u001b[38;5;28;01mreturn\u001b[39;00m response\n",
      "File \u001b[1;32m~\\anaconda3\\envs\\py38\\lib\\site-packages\\selenium\\webdriver\\remote\\errorhandler.py:229\u001b[0m, in \u001b[0;36mErrorHandler.check_response\u001b[1;34m(self, response)\u001b[0m\n\u001b[0;32m    227\u001b[0m         alert_text \u001b[38;5;241m=\u001b[39m value[\u001b[38;5;124m\"\u001b[39m\u001b[38;5;124malert\u001b[39m\u001b[38;5;124m\"\u001b[39m]\u001b[38;5;241m.\u001b[39mget(\u001b[38;5;124m\"\u001b[39m\u001b[38;5;124mtext\u001b[39m\u001b[38;5;124m\"\u001b[39m)\n\u001b[0;32m    228\u001b[0m     \u001b[38;5;28;01mraise\u001b[39;00m exception_class(message, screen, stacktrace, alert_text)  \u001b[38;5;66;03m# type: ignore[call-arg]  # mypy is not smart enough here\u001b[39;00m\n\u001b[1;32m--> 229\u001b[0m \u001b[38;5;28;01mraise\u001b[39;00m exception_class(message, screen, stacktrace)\n",
      "\u001b[1;31mNoSuchElementException\u001b[0m: Message: no such element: Unable to locate element: {\"method\":\"css selector\",\"selector\":\".gs-image\"}\n  (Session info: chrome=117.0.5938.150); For documentation on this error, please visit: https://www.selenium.dev/documentation/webdriver/troubleshooting/errors#no-such-element-exception\nStacktrace:\n\tGetHandleVerifier [0x00007FF6C0627D12+55474]\n\t(No symbol) [0x00007FF6C05977C2]\n\t(No symbol) [0x00007FF6C044E0EB]\n\t(No symbol) [0x00007FF6C048EBAC]\n\t(No symbol) [0x00007FF6C048ED2C]\n\t(No symbol) [0x00007FF6C04857AC]\n\t(No symbol) [0x00007FF6C04AF19F]\n\t(No symbol) [0x00007FF6C04856E6]\n\t(No symbol) [0x00007FF6C04AF370]\n\t(No symbol) [0x00007FF6C04C7EF2]\n\t(No symbol) [0x00007FF6C04AEF33]\n\t(No symbol) [0x00007FF6C0483D41]\n\t(No symbol) [0x00007FF6C0484F84]\n\tGetHandleVerifier [0x00007FF6C098B762+3609346]\n\tGetHandleVerifier [0x00007FF6C09E1A80+3962400]\n\tGetHandleVerifier [0x00007FF6C09D9F0F+3930799]\n\tGetHandleVerifier [0x00007FF6C06C3CA6+694342]\n\t(No symbol) [0x00007FF6C05A2218]\n\t(No symbol) [0x00007FF6C059E484]\n\t(No symbol) [0x00007FF6C059E5B2]\n\t(No symbol) [0x00007FF6C058EE13]\n\tBaseThreadInitThunk [0x00007FFE0B61257D+29]\n\tRtlUserThreadStart [0x00007FFE0C4EAA68+40]\n"
     ]
    }
   ],
   "source": [
    "driver = webdriver.Chrome()\n",
    "\n",
    "driver.maximize_window()\n",
    "driver.implicitly_wait(2)\n",
    "\n",
    "driver.get(url)\n",
    "\n",
    "driver.find_element(\"xpath\", '//*[@id=\"db-cn-policy-dismiss\"]').click()\n",
    "driver.implicitly_wait(2)\n",
    "\n",
    "driver.find_element(\"xpath\", '//*[@id=\"search-bar-toggler\"]').click()\n",
    "\n",
    "#Step 1: identify search box\n",
    "search_query = driver.find_element('xpath','//*[@id=\"db-nsf-fld\"]')\n",
    "\n",
    "#Step 2: search a topic\n",
    "search_query.send_keys('OMA')\n",
    "search_query.send_keys(Keys.RETURN)\n",
    "#Delay\n",
    "sleep(5)\n",
    "\n",
    "#Create empty lists to store data\n",
    "name_list=[]\n",
    "link_list=[]\n",
    "\n",
    "\n",
    "# Get scroll height\n",
    "last_height = driver.execute_script(\"return document.body.scrollHeight\")\n",
    "\n",
    "while True:\n",
    "    # Scroll down \n",
    "    driver.execute_script(\"window.scrollTo(0, document.body.scrollHeight);\")\n",
    "    sleep(5)\n",
    "\n",
    "    # Calculate new scroll height and compare with last scroll height\n",
    "    new_height = driver.execute_script(\"return document.body.scrollHeight\")\n",
    "    \n",
    "    if new_height == last_height:\n",
    "        break\n",
    "    last_height = new_height\n",
    "\n",
    "\n",
    "#Run the function to gather the data\n",
    "extract_page_data(driver)\n",
    "\n",
    "\n",
    "#Close the webpage\n",
    "driver.quit()"
   ]
  },
  {
   "cell_type": "code",
   "execution_count": 13,
   "id": "f6331764",
   "metadata": {},
   "outputs": [
    {
     "name": "stdout",
     "output_type": "stream",
     "text": [
      "https://www.designboom.com/tag/oma-rem-koolhaas/\n",
      "https://www.designboom.com/architecture/oma-factory-international-manchester-cultural-riverside-destination-05-16-2023/\n",
      "https://www.designboom.com/architecture/the-factory-oma-manchester-new-images-construction-09-23-2020/\n",
      "https://www.designboom.com/architecture/oma-suspends-see-through-trapezoidal-office-plaza-munich-unicredit-hq-06-27-2023/\n",
      "https://www.designboom.com/architecture/oma-buffalo-akg-art-museum-opens-public-transparent-facade-new-york-06-16-2023/\n",
      "https://www.designboom.com/design/solidnature-milan-design-week-sabine-marcelis-oma-alcova-06-06-2022/\n",
      "https://www.designboom.com/architecture/oma-factory-cultural-venue-manchester-approved-rem-koolhaas-01-12-2017/\n",
      "https://www.designboom.com/architecture/desa-potato-head-bali-oma-creative-village-regenerative-tourism-10-09-2022/\n",
      "https://www.designboom.com/art/oma-shohei-shigematsu-new-galleries-studio-denvert-art-museum-10-26-2021/\n",
      "https://www.designboom.com/architecture/oma-shohei-shigematsu-reefline-underwater-sculpture-park-miami-11-19-2020/\n"
     ]
    }
   ],
   "source": [
    "#Write the data to a csv file\n",
    "\n",
    "import csv \n",
    "        \n",
    "with open('designboomlinks.csv', 'w',newline='') as csvfile: \n",
    "    writer = csv.writer(csvfile) \n",
    "    for link in link_list:\n",
    "        print(link)\n",
    "        writer.writerow([link])"
   ]
  },
  {
   "cell_type": "code",
   "execution_count": null,
   "id": "79f0b5e7",
   "metadata": {},
   "outputs": [],
   "source": []
  },
  {
   "cell_type": "code",
   "execution_count": null,
   "id": "c5706f0f",
   "metadata": {},
   "outputs": [],
   "source": []
  }
 ],
 "metadata": {
  "kernelspec": {
   "display_name": "Python 3 (ipykernel)",
   "language": "python",
   "name": "python3"
  },
  "language_info": {
   "codemirror_mode": {
    "name": "ipython",
    "version": 3
   },
   "file_extension": ".py",
   "mimetype": "text/x-python",
   "name": "python",
   "nbconvert_exporter": "python",
   "pygments_lexer": "ipython3",
   "version": "3.8.18"
  }
 },
 "nbformat": 4,
 "nbformat_minor": 5
}
