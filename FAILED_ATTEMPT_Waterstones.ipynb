{
 "cells": [
  {
   "cell_type": "code",
   "execution_count": null,
   "id": "6b8f70a5",
   "metadata": {},
   "outputs": [],
   "source": [
    "# Beatriz Gonzalez, Saafaa Rachid, Sharima Achmad"
   ]
  },
  {
   "cell_type": "code",
   "execution_count": 28,
   "id": "c4696c23",
   "metadata": {},
   "outputs": [],
   "source": [
    "import selenium \n",
    "from selenium import webdriver\n",
    "from selenium.webdriver.common.by import By\n",
    "from selenium.webdriver.common.keys import Keys\n",
    "from selenium.webdriver.support.ui import Select\n",
    "from selenium.webdriver.support.ui import WebDriverWait\n",
    "from selenium.webdriver.support import expected_conditions as EC\n",
    "from time import sleep\n",
    "import re"
   ]
  },
  {
   "cell_type": "code",
   "execution_count": 29,
   "id": "0bbce112",
   "metadata": {},
   "outputs": [],
   "source": [
    "url=\"https://www.waterstones.com/\""
   ]
  },
  {
   "cell_type": "code",
   "execution_count": 30,
   "id": "1c9ff754",
   "metadata": {},
   "outputs": [],
   "source": [
    "link_list=[]\n",
    "driver=[]\n",
    "name=[]"
   ]
  },
  {
   "cell_type": "code",
   "execution_count": 31,
   "id": "c6f4d084",
   "metadata": {},
   "outputs": [],
   "source": [
    "def extract_page_data(driver):\n",
    "    #Get all projects\n",
    "    projects=driver.find_elements(\"class name\", \"search-results-list\")\n",
    "    sleep(10)\n",
    "\n",
    "    print(len(projects))\n",
    "\n",
    "    for p in range(len(projects)):\n",
    "        \n",
    "            #Extracting title\n",
    "            name = projects[p].find_element(\"class name\",\"title link-invert dotdotdot ddd-truncated\").text\n",
    "            print(name)\n",
    "          \n",
    "            #Extraction of links\n",
    "            link = projects[p].find_element(\"class name\",\"title link-invert dotdotdot ddd-truncated\").get_attribute('href')\n",
    "            #print(link)\n",
    "        \n",
    "                  \n",
    "            #Add item to the respective lists\n",
    "            name_list.append(name)\n",
    "            link_list.append(link)\n",
    "            sleep(2)  "
   ]
  },
  {
   "cell_type": "code",
   "execution_count": 32,
   "id": "0181de5b",
   "metadata": {},
   "outputs": [
    {
     "ename": "JavascriptException",
     "evalue": "Message: javascript error: xpath is not defined\n  (Session info: chrome=117.0.5938.150)\nStacktrace:\n\tGetHandleVerifier [0x00007FF6C0627D12+55474]\n\t(No symbol) [0x00007FF6C05977C2]\n\t(No symbol) [0x00007FF6C044E0EB]\n\t(No symbol) [0x00007FF6C0452B1D]\n\t(No symbol) [0x00007FF6C045495A]\n\t(No symbol) [0x00007FF6C04C8584]\n\t(No symbol) [0x00007FF6C04AF15A]\n\t(No symbol) [0x00007FF6C04C7EF2]\n\t(No symbol) [0x00007FF6C04AEF33]\n\t(No symbol) [0x00007FF6C0483D41]\n\t(No symbol) [0x00007FF6C0484F84]\n\tGetHandleVerifier [0x00007FF6C098B762+3609346]\n\tGetHandleVerifier [0x00007FF6C09E1A80+3962400]\n\tGetHandleVerifier [0x00007FF6C09D9F0F+3930799]\n\tGetHandleVerifier [0x00007FF6C06C3CA6+694342]\n\t(No symbol) [0x00007FF6C05A2218]\n\t(No symbol) [0x00007FF6C059E484]\n\t(No symbol) [0x00007FF6C059E5B2]\n\t(No symbol) [0x00007FF6C058EE13]\n\tBaseThreadInitThunk [0x00007FFE0B61257D+29]\n\tRtlUserThreadStart [0x00007FFE0C4EAA68+40]\n",
     "output_type": "error",
     "traceback": [
      "\u001b[1;31m---------------------------------------------------------------------------\u001b[0m",
      "\u001b[1;31mJavascriptException\u001b[0m                       Traceback (most recent call last)",
      "Cell \u001b[1;32mIn[32], line 9\u001b[0m\n\u001b[0;32m      6\u001b[0m driver\u001b[38;5;241m.\u001b[39mget(url)\n\u001b[0;32m      8\u001b[0m sleep(\u001b[38;5;241m2\u001b[39m)\n\u001b[1;32m----> 9\u001b[0m \u001b[43mdriver\u001b[49m\u001b[38;5;241;43m.\u001b[39;49m\u001b[43mexecute_script\u001b[49m\u001b[43m(\u001b[49m\u001b[38;5;124;43m'\u001b[39;49m\u001b[38;5;124;43mxpath\u001b[39;49m\u001b[38;5;124;43m'\u001b[39;49m\u001b[43m,\u001b[49m\u001b[43m \u001b[49m\u001b[38;5;124;43m'\u001b[39;49m\u001b[38;5;124;43m/html/body/div[3]/div[2]/div/div[1]/div/div[2]/div/button[3]\u001b[39;49m\u001b[38;5;124;43m'\u001b[39;49m\u001b[43m)\u001b[49m\u001b[38;5;241m.\u001b[39mclick()\n\u001b[0;32m     12\u001b[0m \u001b[38;5;66;03m#Step 1: identify search box\u001b[39;00m\n\u001b[0;32m     13\u001b[0m search_query \u001b[38;5;241m=\u001b[39m driver\u001b[38;5;241m.\u001b[39mfind_element(\u001b[38;5;124m'\u001b[39m\u001b[38;5;124mxpath\u001b[39m\u001b[38;5;124m'\u001b[39m,\u001b[38;5;124m'\u001b[39m\u001b[38;5;124m//*[@id=\u001b[39m\u001b[38;5;124m\"\u001b[39m\u001b[38;5;124mmasthead\u001b[39m\u001b[38;5;124m\"\u001b[39m\u001b[38;5;124m]/div[3]/div/div/div/div[2]/div/form/div/input\u001b[39m\u001b[38;5;124m'\u001b[39m)\n",
      "File \u001b[1;32m~\\anaconda3\\envs\\py38\\lib\\site-packages\\selenium\\webdriver\\remote\\webdriver.py:404\u001b[0m, in \u001b[0;36mWebDriver.execute_script\u001b[1;34m(self, script, *args)\u001b[0m\n\u001b[0;32m    401\u001b[0m converted_args \u001b[38;5;241m=\u001b[39m \u001b[38;5;28mlist\u001b[39m(args)\n\u001b[0;32m    402\u001b[0m command \u001b[38;5;241m=\u001b[39m Command\u001b[38;5;241m.\u001b[39mW3C_EXECUTE_SCRIPT\n\u001b[1;32m--> 404\u001b[0m \u001b[38;5;28;01mreturn\u001b[39;00m \u001b[38;5;28;43mself\u001b[39;49m\u001b[38;5;241;43m.\u001b[39;49m\u001b[43mexecute\u001b[49m\u001b[43m(\u001b[49m\u001b[43mcommand\u001b[49m\u001b[43m,\u001b[49m\u001b[43m \u001b[49m\u001b[43m{\u001b[49m\u001b[38;5;124;43m\"\u001b[39;49m\u001b[38;5;124;43mscript\u001b[39;49m\u001b[38;5;124;43m\"\u001b[39;49m\u001b[43m:\u001b[49m\u001b[43m \u001b[49m\u001b[43mscript\u001b[49m\u001b[43m,\u001b[49m\u001b[43m \u001b[49m\u001b[38;5;124;43m\"\u001b[39;49m\u001b[38;5;124;43margs\u001b[39;49m\u001b[38;5;124;43m\"\u001b[39;49m\u001b[43m:\u001b[49m\u001b[43m \u001b[49m\u001b[43mconverted_args\u001b[49m\u001b[43m}\u001b[49m\u001b[43m)\u001b[49m[\u001b[38;5;124m\"\u001b[39m\u001b[38;5;124mvalue\u001b[39m\u001b[38;5;124m\"\u001b[39m]\n",
      "File \u001b[1;32m~\\anaconda3\\envs\\py38\\lib\\site-packages\\selenium\\webdriver\\remote\\webdriver.py:344\u001b[0m, in \u001b[0;36mWebDriver.execute\u001b[1;34m(self, driver_command, params)\u001b[0m\n\u001b[0;32m    342\u001b[0m response \u001b[38;5;241m=\u001b[39m \u001b[38;5;28mself\u001b[39m\u001b[38;5;241m.\u001b[39mcommand_executor\u001b[38;5;241m.\u001b[39mexecute(driver_command, params)\n\u001b[0;32m    343\u001b[0m \u001b[38;5;28;01mif\u001b[39;00m response:\n\u001b[1;32m--> 344\u001b[0m     \u001b[38;5;28;43mself\u001b[39;49m\u001b[38;5;241;43m.\u001b[39;49m\u001b[43merror_handler\u001b[49m\u001b[38;5;241;43m.\u001b[39;49m\u001b[43mcheck_response\u001b[49m\u001b[43m(\u001b[49m\u001b[43mresponse\u001b[49m\u001b[43m)\u001b[49m\n\u001b[0;32m    345\u001b[0m     response[\u001b[38;5;124m\"\u001b[39m\u001b[38;5;124mvalue\u001b[39m\u001b[38;5;124m\"\u001b[39m] \u001b[38;5;241m=\u001b[39m \u001b[38;5;28mself\u001b[39m\u001b[38;5;241m.\u001b[39m_unwrap_value(response\u001b[38;5;241m.\u001b[39mget(\u001b[38;5;124m\"\u001b[39m\u001b[38;5;124mvalue\u001b[39m\u001b[38;5;124m\"\u001b[39m, \u001b[38;5;28;01mNone\u001b[39;00m))\n\u001b[0;32m    346\u001b[0m     \u001b[38;5;28;01mreturn\u001b[39;00m response\n",
      "File \u001b[1;32m~\\anaconda3\\envs\\py38\\lib\\site-packages\\selenium\\webdriver\\remote\\errorhandler.py:229\u001b[0m, in \u001b[0;36mErrorHandler.check_response\u001b[1;34m(self, response)\u001b[0m\n\u001b[0;32m    227\u001b[0m         alert_text \u001b[38;5;241m=\u001b[39m value[\u001b[38;5;124m\"\u001b[39m\u001b[38;5;124malert\u001b[39m\u001b[38;5;124m\"\u001b[39m]\u001b[38;5;241m.\u001b[39mget(\u001b[38;5;124m\"\u001b[39m\u001b[38;5;124mtext\u001b[39m\u001b[38;5;124m\"\u001b[39m)\n\u001b[0;32m    228\u001b[0m     \u001b[38;5;28;01mraise\u001b[39;00m exception_class(message, screen, stacktrace, alert_text)  \u001b[38;5;66;03m# type: ignore[call-arg]  # mypy is not smart enough here\u001b[39;00m\n\u001b[1;32m--> 229\u001b[0m \u001b[38;5;28;01mraise\u001b[39;00m exception_class(message, screen, stacktrace)\n",
      "\u001b[1;31mJavascriptException\u001b[0m: Message: javascript error: xpath is not defined\n  (Session info: chrome=117.0.5938.150)\nStacktrace:\n\tGetHandleVerifier [0x00007FF6C0627D12+55474]\n\t(No symbol) [0x00007FF6C05977C2]\n\t(No symbol) [0x00007FF6C044E0EB]\n\t(No symbol) [0x00007FF6C0452B1D]\n\t(No symbol) [0x00007FF6C045495A]\n\t(No symbol) [0x00007FF6C04C8584]\n\t(No symbol) [0x00007FF6C04AF15A]\n\t(No symbol) [0x00007FF6C04C7EF2]\n\t(No symbol) [0x00007FF6C04AEF33]\n\t(No symbol) [0x00007FF6C0483D41]\n\t(No symbol) [0x00007FF6C0484F84]\n\tGetHandleVerifier [0x00007FF6C098B762+3609346]\n\tGetHandleVerifier [0x00007FF6C09E1A80+3962400]\n\tGetHandleVerifier [0x00007FF6C09D9F0F+3930799]\n\tGetHandleVerifier [0x00007FF6C06C3CA6+694342]\n\t(No symbol) [0x00007FF6C05A2218]\n\t(No symbol) [0x00007FF6C059E484]\n\t(No symbol) [0x00007FF6C059E5B2]\n\t(No symbol) [0x00007FF6C058EE13]\n\tBaseThreadInitThunk [0x00007FFE0B61257D+29]\n\tRtlUserThreadStart [0x00007FFE0C4EAA68+40]\n"
     ]
    }
   ],
   "source": [
    "driver = webdriver.Chrome()\n",
    "\n",
    "driver.maximize_window()\n",
    "driver.implicitly_wait(2)\n",
    "\n",
    "driver.get(url)\n",
    "\n",
    "sleep(2)\n",
    "driver.execute_script('xpath', '/html/body/div[3]/div[2]/div/div[1]/div/div[2]/div/button[3]').click()\n",
    "\n",
    "\n",
    "#Step 1: identify search box\n",
    "search_query = driver.find_element('xpath','//*[@id=\"masthead\"]/div[3]/div/div/div/div[2]/div/form/div/input')\n",
    "\n",
    "#Step 2: search a topic\n",
    "search_query.send_keys('Architecture')\n",
    "search_query.send_keys(Keys.RETURN)\n",
    "#Delay\n",
    "sleep(5)\n",
    "\n",
    "#Select the project category\n",
    "driver.find_element(\"xpath\", '//*[@id=\"pagesmain\"]/div/header[1]/a').click()\n",
    "sleep(6)\n",
    "\n",
    "#Create empty lists to store data\n",
    "name_list=[]\n",
    "link_list=[]\n",
    "\n",
    "\n",
    "# Get scroll height\n",
    "last_height = driver.execute_script(\"return document.body.scrollHeight\")\n",
    "\n",
    "while True:\n",
    "    # Scroll down \n",
    "    driver.execute_script(\"window.scrollTo(0, document.body.scrollHeight);\")\n",
    "    sleep(5)\n",
    "\n",
    "    # Calculate new scroll height and compare with last scroll height\n",
    "    new_height = driver.execute_script(\"return document.body.scrollHeight\")\n",
    "    \n",
    "    if new_height == last_height:\n",
    "        break\n",
    "    last_height = new_height\n",
    "\n",
    "\n",
    "#Run the function to gather the data\n",
    "extract_page_data(driver)\n",
    "\n",
    "\n",
    "#Close the webpage\n",
    "driver.quit()"
   ]
  },
  {
   "cell_type": "code",
   "execution_count": null,
   "id": "336b548b",
   "metadata": {},
   "outputs": [],
   "source": []
  },
  {
   "cell_type": "code",
   "execution_count": null,
   "id": "e7356690",
   "metadata": {},
   "outputs": [],
   "source": []
  }
 ],
 "metadata": {
  "kernelspec": {
   "display_name": "Python 3 (ipykernel)",
   "language": "python",
   "name": "python3"
  },
  "language_info": {
   "codemirror_mode": {
    "name": "ipython",
    "version": 3
   },
   "file_extension": ".py",
   "mimetype": "text/x-python",
   "name": "python",
   "nbconvert_exporter": "python",
   "pygments_lexer": "ipython3",
   "version": "3.8.18"
  }
 },
 "nbformat": 4,
 "nbformat_minor": 5
}
